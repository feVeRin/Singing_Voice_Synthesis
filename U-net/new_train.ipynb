{
 "cells": [
  {
   "cell_type": "code",
   "execution_count": 1,
   "metadata": {},
   "outputs": [],
   "source": [
    "import argparse\n",
    "import os\n",
    "\n",
    "import torch\n",
    "import torch.nn.functional as F\n",
    "import torch.utils.data\n",
    "from torch.utils.tensorboard import SummaryWriter\n",
    "\n",
    "import data\n",
    "from u_net import UNet\n",
    "from utils import padding\n",
    "\n",
    "N_PART = 4\n",
    "N_FFT = 2047\n",
    "SAMPLING_RATE = 22050\n",
    "\n",
    "batch_size = 64\n",
    "epochs = 500\n",
    "interval = 25\n",
    "learning_rate = 2e-3\n",
    "\n",
    "data_dir = '/userHome/userhome2/dahyun/voice/Singing_Voice_Synthesis/data/convertMUSDB'\n",
    "output_dir = '/userHome/userhome2/dahyun/voice/Singing_Voice_Synthesis/U-net/new_unet/outputs'\n",
    "if not os.path.isdir(output_dir):\n",
    "    os.mkdir(output_dir)\n",
    "\n",
    "cuda_check = torch.cuda.is_available()\n",
    "device = torch.device(f'cuda' if cuda_check else 'cpu')"
   ]
  },
  {
   "cell_type": "code",
   "execution_count": 5,
   "metadata": {},
   "outputs": [],
   "source": [
    "def train(model, data_loader, optimizer, device, epoch, tb_writer):\n",
    "    model.train()\n",
    "\n",
    "    total_loss = 0\n",
    "    for x, t in data_loader:\n",
    "        batch_size = x.size(0)\n",
    "        x, t = x.to(device), t.to(device)\n",
    "        y = model(x) * x.unsqueeze(1)\n",
    "\n",
    "        loss = F.l1_loss(y, t, reduction='sum') / batch_size\n",
    "        total_loss += loss.item()\n",
    "\n",
    "        optimizer.zero_grad()\n",
    "        loss.backward()\n",
    "        optimizer.step()\n",
    "\n",
    "    tb_writer.add_scalar('train/loss', total_loss / len(data_loader), epoch)\n",
    "\n",
    "def test(model, test_data, device, epoch, tb_writer):\n",
    "    model.eval()\n",
    "\n",
    "    total_loss = 0\n",
    "    with torch.no_grad():\n",
    "        window = torch.hann_window(N_FFT, device=device)\n",
    "        for sound in test_data:\n",
    "            sound = sound.to(device)\n",
    "            sound_stft = torch.stft(sound, N_FFT, window=window, return_complex=False)\n",
    "            sound_spec = sound_stft.pow(2).sum(-1).sqrt()\n",
    "            x, t = sound_spec[0], sound_spec[1:]\n",
    "\n",
    "            x_padded, (left, right) = padding(x)\n",
    "            right = x_padded.size(1) - right\n",
    "            mask = model(x_padded.unsqueeze(0)).squeeze(0)[:, :, left:right]\n",
    "            y = mask * x.unsqueeze(0)\n",
    "            loss = F.l1_loss(y, t, reduction='sum')\n",
    "            total_loss += loss.item()\n",
    "\n",
    "    tb_writer.add_scalar('test/loss', total_loss / len(test_data), epoch)"
   ]
  },
  {
   "cell_type": "code",
   "execution_count": 6,
   "metadata": {},
   "outputs": [
    {
     "name": "stdout",
     "output_type": "stream",
     "text": [
      "Data load..\n",
      "Model setting..\n",
      "Training..\n"
     ]
    }
   ],
   "source": [
    "# Dataloader\n",
    "print('Data load..')\n",
    "train_data, test_data = data.read_data(data_dir, N_FFT, 512, SAMPLING_RATE)\n",
    "train_dataset = data.RandomCropDataset(train_data, 256)\n",
    "train_loader = torch.utils.data.DataLoader(train_dataset, batch_size=batch_size, shuffle=True, num_workers=2, pin_memory=False)\n",
    "\n",
    "# Model\n",
    "print('Model setting..')\n",
    "model = UNet(N_PART)\n",
    "model = torch.nn.DataParallel(model)\n",
    "model = model.to(device)\n",
    "optimizer = torch.optim.AdamW(model.parameters(), lr=learning_rate)\n",
    "\n",
    "# Tensorboard\n",
    "print('Training..')\n",
    "tb_writer = SummaryWriter()\n",
    "\n",
    "for epoch in range(epochs):\n",
    "    train(model, train_loader, optimizer, device, epoch, tb_writer)\n",
    "    if epoch % interval == 0:\n",
    "        # Save the model\n",
    "        test(model, test_data, device, epoch, tb_writer)\n",
    "        model.cpu()\n",
    "        if isinstance(model, torch.nn.DataParallel):\n",
    "            state_dict = model.module.state_dict()\n",
    "        else:\n",
    "            state_dict = model.state_dict()\n",
    "        path = os.path.join(output_dir, f'model-{epoch}.pth')\n",
    "        torch.save(state_dict, path)\n",
    "        model.to(device)\n",
    "\n",
    "tb_writer.close()\n",
    "print('Finish..')"
   ]
  }
 ],
 "metadata": {
  "kernelspec": {
   "display_name": "svs",
   "language": "python",
   "name": "python3"
  },
  "language_info": {
   "codemirror_mode": {
    "name": "ipython",
    "version": 3
   },
   "file_extension": ".py",
   "mimetype": "text/x-python",
   "name": "python",
   "nbconvert_exporter": "python",
   "pygments_lexer": "ipython3",
   "version": "3.8.0"
  }
 },
 "nbformat": 4,
 "nbformat_minor": 2
}
